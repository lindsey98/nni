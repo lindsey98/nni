{
 "cells": [
  {
   "cell_type": "code",
   "execution_count": 1,
   "metadata": {},
   "outputs": [],
   "source": [
    "# %% md\n",
    "import torch\n",
    "from utils import accuracy\n",
    "from torchvision import transforms\n",
    "from torchvision.datasets import CIFAR10\n",
    "from nni.retiarii.oneshot.pytorch import DartsTrainer, EnasTrainer\n",
    "import itertools\n",
    "import torch.nn.functional as F\n",
    "import nni.retiarii.nn.pytorch as nn\n",
    "from collections import OrderedDict"
   ]
  },
  {
   "cell_type": "code",
   "execution_count": 2,
   "metadata": {},
   "outputs": [],
   "source": [
    "def reward_accuracy(output, target, topk=(1,)):\n",
    "    batch_size = target.size(0)\n",
    "    _, predicted = torch.max(output.data, 1)\n",
    "    return (predicted == target).sum().item() / batch_size"
   ]
  },
  {
   "cell_type": "code",
   "execution_count": 1,
   "metadata": {},
   "outputs": [],
   "source": [
    "# Retiarii Example - One-shot NAS\n",
    "\n",
    "## Step 1: Express the Model Space\n",
    "\n",
    "### Step 1.1: Define the Base Model\n",
    "\n",
    "class CIFAR_17(nn.Module):\n",
    "    '''\n",
    "    BaseModel which has 3 CNN layers and 2 FC layers\n",
    "    '''\n",
    "\n",
    "    def __init__(self, head_size=10):\n",
    "        super(CIFAR_17, self).__init__()\n",
    "\n",
    "        self.body = nn.Sequential(OrderedDict([\n",
    "            ('cnn1', nn.Sequential(OrderedDict([\n",
    "                ('conv', nn.Conv2d(3, 8, 3, 1, 1)),\n",
    "                ('batchnorm', nn.BatchNorm2d(8)),\n",
    "                ('relu', nn.ReLU(inplace=True)),\n",
    "                ('pool', nn.MaxPool2d(2))\n",
    "            ]))),\n",
    "            ('cnn2', nn.Sequential(OrderedDict([\n",
    "                ('conv', nn.Conv2d(8, 8, 3, 1, 1)),\n",
    "                ('batchnorm', nn.BatchNorm2d(8)),\n",
    "                ('relu', nn.ReLU(inplace=True)),\n",
    "                ('pool', nn.MaxPool2d(2))\n",
    "            ]))),\n",
    "            ('cnn3', nn.Sequential(OrderedDict([\n",
    "                ('conv', nn.Conv2d(8, 8, 3, 1, 1)),\n",
    "                ('batchnorm', nn.BatchNorm2d(8)),\n",
    "                ('relu', nn.ReLU(inplace=True)),\n",
    "                ('pool', nn.MaxPool2d(2)),\n",
    "            ])))\n",
    "        ]))\n",
    "\n",
    "        self.head = nn.Sequential(OrderedDict([\n",
    "            ('dense', nn.Sequential(OrderedDict([\n",
    "                ('fc1', nn.Conv2d(8 * 4 * 4, 32, kernel_size=1, bias=True)),  # implement dense layer in CNN way\n",
    "                ('relu', nn.ReLU(inplace=True)),\n",
    "                ('fc2', nn.Conv2d(32, head_size, kernel_size=1, bias=True)),\n",
    "            ])))\n",
    "        ]))\n",
    "\n",
    "    def features(self, x):\n",
    "        feat = self.body(x)\n",
    "        feat = x.view(x.shape[0], -1)\n",
    "        return feat\n",
    "\n",
    "    def forward(self, x):\n",
    "        x = self.body(x)\n",
    "        x = x.view(x.shape[0], -1, 1, 1)  # flatten\n",
    "        x = self.head(x)\n",
    "        x = x.view(x.shape[0], -1)\n",
    "        return x\n",
    "\n",
    "model = CIFAR_17()"
   ]
  },
  {
   "cell_type": "code",
   "execution_count": 3,
   "metadata": {
    "scrolled": false
   },
   "outputs": [
    {
     "name": "stderr",
     "output_type": "stream",
     "text": [
      "/home/l/liny/anaconda3/envs/nni/lib/python3.7/site-packages/nni/retiarii/nn/pytorch/api.py:135: UserWarning: You should not run forward of this module directly.\n",
      "  warnings.warn('You should not run forward of this module directly.')\n"
     ]
    },
    {
     "data": {
      "text/plain": [
       "tensor([[[[0.8355, 0.0372, 0.4820,  ..., 0.6036, 0.5490, 0.5939],\n",
       "          [0.9390, 0.1123, 0.1321,  ..., 0.3496, 0.5150, 0.4703],\n",
       "          [0.1982, 0.4452, 0.6646,  ..., 0.8955, 0.7899, 0.4220],\n",
       "          ...,\n",
       "          [0.8055, 0.0359, 0.5717,  ..., 0.5338, 0.2097, 0.1777],\n",
       "          [0.6984, 0.3758, 0.0012,  ..., 0.4088, 0.4660, 0.1637],\n",
       "          [0.5624, 0.0933, 0.2508,  ..., 0.6675, 0.1395, 0.4679]],\n",
       "\n",
       "         [[0.9481, 0.0475, 0.4693,  ..., 0.5553, 0.7257, 0.2556],\n",
       "          [0.7076, 0.7270, 0.7303,  ..., 0.6901, 0.2042, 0.8692],\n",
       "          [0.7110, 0.2516, 0.6331,  ..., 0.5559, 0.3112, 0.6330],\n",
       "          ...,\n",
       "          [0.3921, 0.6627, 0.7397,  ..., 0.8701, 0.2475, 0.5895],\n",
       "          [0.6491, 0.2870, 0.8292,  ..., 0.6190, 0.8112, 0.7844],\n",
       "          [0.4368, 0.7931, 0.0874,  ..., 0.3731, 0.0355, 0.2749]],\n",
       "\n",
       "         [[0.8739, 0.0190, 0.7372,  ..., 0.1666, 0.1791, 0.5846],\n",
       "          [0.3235, 0.0745, 0.1028,  ..., 0.6966, 0.7469, 0.6754],\n",
       "          [0.7236, 0.6912, 0.9650,  ..., 0.8326, 0.1195, 0.0409],\n",
       "          ...,\n",
       "          [0.9458, 0.4420, 0.3968,  ..., 0.5830, 0.6664, 0.7460],\n",
       "          [0.8783, 0.1178, 0.8303,  ..., 0.0339, 0.5705, 0.0179],\n",
       "          [0.7779, 0.9815, 0.8691,  ..., 0.0459, 0.6789, 0.8937]]]])"
      ]
     },
     "execution_count": 3,
     "metadata": {},
     "output_type": "execute_result"
    }
   ],
   "source": [
    "### Step 1.2: Define the Model Mutations\n",
    "\n",
    "\n",
    "import torch.nn.functional as F\n",
    "import nni.retiarii.nn.pytorch as nn\n",
    "\n",
    "\n",
    "class Net(nn.Module):\n",
    "    def __init__(self, head_size=10, lower_range=8, upper_range=16):\n",
    "        super(Net, self).__init__()\n",
    "        self.head_size = head_size\n",
    "        self.lower_range = lower_range\n",
    "        self.upper_range = upper_range\n",
    "        choice_dict = self._get_mutator()\n",
    "        self.net = nn.LayerChoice(choice_dict)\n",
    "\n",
    "    def _get_mutator(self):\n",
    "        ## this is supposed to be slooow \n",
    "        layer_choices = []\n",
    "        a = [range(self.lower_range, self.upper_range+1),\n",
    "             range(self.lower_range, self.upper_range+1),\n",
    "             range(self.lower_range, self.upper_range+1)]\n",
    "\n",
    "        for comb in list(itertools.product(*a)):\n",
    "            i, j, k = comb\n",
    "            layer_choices.append(\n",
    "                nn.Sequential(\n",
    "                        nn.Conv2d(3, i, 3, 1, 1),\n",
    "#                         nn.BatchNorm2d(i),\n",
    "                        nn.ReLU(inplace=True),\n",
    "                        nn.MaxPool2d(2),\n",
    "\n",
    "                        nn.Conv2d(i, j, 3, 1, 1),\n",
    "#                         nn.BatchNorm2d(j),\n",
    "                        nn.ReLU(inplace=True),\n",
    "                        nn.MaxPool2d(2),\n",
    "\n",
    "                        nn.Conv2d(j, k, 3, 1, 1),\n",
    "#                         nn.BatchNorm2d(k),\n",
    "                        nn.ReLU(inplace=True),\n",
    "                        nn.MaxPool2d(2),\n",
    "\n",
    "                        nn.Flatten(),\n",
    "                        nn.Linear(k * 4 * 4, 32),\n",
    "                        nn.ReLU(inplace=True),\n",
    "                        nn.Linear(32, self.head_size),\n",
    "                    )\n",
    "            )\n",
    "        return layer_choices\n",
    "\n",
    "    def forward(self, x):\n",
    "        out = self.net(x)\n",
    "        return out\n",
    "\n",
    "\n",
    "model = Net()\n",
    "model.forward(torch.rand(1, 3, 32, 32))"
   ]
  },
  {
   "cell_type": "code",
   "execution_count": 4,
   "metadata": {},
   "outputs": [
    {
     "name": "stdout",
     "output_type": "stream",
     "text": [
      "Files already downloaded and verified\n"
     ]
    }
   ],
   "source": [
    "## Step 2: Explore the Model Space\n",
    "\n",
    "criterion = torch.nn.CrossEntropyLoss()\n",
    "optimizer = torch.optim.SGD(model.parameters(), \n",
    "                            lr=0.001, \n",
    "                            momentum=0.9)\n",
    "\n",
    "transform = transforms.Compose([transforms.ToTensor(),\n",
    "                                transforms.Normalize((0.4914, 0.4822, 0.4465), \n",
    "                                                     (0.2023, 0.1994, 0.2010)),\n",
    "                               ])\n",
    "\n",
    "train_dataset = CIFAR10(root=\"./data\",\n",
    "                        train=True,\n",
    "                        download=True,\n",
    "                        transform=transform)\n"
   ]
  },
  {
   "cell_type": "markdown",
   "metadata": {},
   "source": [
    "## DARTS or ENAS"
   ]
  },
  {
   "cell_type": "code",
   "execution_count": null,
   "metadata": {},
   "outputs": [
    {
     "name": "stdout",
     "output_type": "stream",
     "text": [
      "[2021-06-13 22:13:32] INFO (nni.retiarii.oneshot.pytorch.darts/MainThread) Epoch [1/2] Step [1/3125]  acc1 0.125000 (0.125000)  loss 2.302913 (2.302913)\n",
      "[2021-06-13 22:14:01] INFO (nni.retiarii.oneshot.pytorch.darts/MainThread) Epoch [1/2] Step [11/3125]  acc1 0.125000 (0.113636)  loss 2.300397 (2.303009)\n",
      "[2021-06-13 22:14:29] INFO (nni.retiarii.oneshot.pytorch.darts/MainThread) Epoch [1/2] Step [21/3125]  acc1 0.000000 (0.101190)  loss 2.303456 (2.302628)\n",
      "[2021-06-13 22:14:58] INFO (nni.retiarii.oneshot.pytorch.darts/MainThread) Epoch [1/2] Step [31/3125]  acc1 0.375000 (0.112903)  loss 2.302419 (2.302710)\n",
      "[2021-06-13 22:15:26] INFO (nni.retiarii.oneshot.pytorch.darts/MainThread) Epoch [1/2] Step [41/3125]  acc1 0.000000 (0.097561)  loss 2.302354 (2.302768)\n",
      "[2021-06-13 22:15:55] INFO (nni.retiarii.oneshot.pytorch.darts/MainThread) Epoch [1/2] Step [51/3125]  acc1 0.000000 (0.098039)  loss 2.304265 (2.302703)\n",
      "[2021-06-13 22:16:23] INFO (nni.retiarii.oneshot.pytorch.darts/MainThread) Epoch [1/2] Step [61/3125]  acc1 0.250000 (0.104508)  loss 2.301853 (2.302687)\n",
      "[2021-06-13 22:16:51] INFO (nni.retiarii.oneshot.pytorch.darts/MainThread) Epoch [1/2] Step [71/3125]  acc1 0.250000 (0.100352)  loss 2.303668 (2.302697)\n",
      "[2021-06-13 22:17:20] INFO (nni.retiarii.oneshot.pytorch.darts/MainThread) Epoch [1/2] Step [81/3125]  acc1 0.250000 (0.103395)  loss 2.299085 (2.302637)\n",
      "[2021-06-13 22:17:48] INFO (nni.retiarii.oneshot.pytorch.darts/MainThread) Epoch [1/2] Step [91/3125]  acc1 0.000000 (0.096154)  loss 2.302654 (2.302596)\n",
      "[2021-06-13 22:18:16] INFO (nni.retiarii.oneshot.pytorch.darts/MainThread) Epoch [1/2] Step [101/3125]  acc1 0.250000 (0.092822)  loss 2.302537 (2.302559)\n",
      "[2021-06-13 22:18:44] INFO (nni.retiarii.oneshot.pytorch.darts/MainThread) Epoch [1/2] Step [111/3125]  acc1 0.000000 (0.091216)  loss 2.302803 (2.302619)\n",
      "[2021-06-13 22:19:12] INFO (nni.retiarii.oneshot.pytorch.darts/MainThread) Epoch [1/2] Step [121/3125]  acc1 0.000000 (0.089876)  loss 2.304992 (2.302656)\n",
      "[2021-06-13 22:19:40] INFO (nni.retiarii.oneshot.pytorch.darts/MainThread) Epoch [1/2] Step [131/3125]  acc1 0.000000 (0.091603)  loss 2.302475 (2.302643)\n",
      "[2021-06-13 22:20:09] INFO (nni.retiarii.oneshot.pytorch.darts/MainThread) Epoch [1/2] Step [141/3125]  acc1 0.125000 (0.093085)  loss 2.303901 (2.302680)\n",
      "[2021-06-13 22:20:37] INFO (nni.retiarii.oneshot.pytorch.darts/MainThread) Epoch [1/2] Step [151/3125]  acc1 0.000000 (0.093543)  loss 2.301932 (2.302680)\n",
      "[2021-06-13 22:21:05] INFO (nni.retiarii.oneshot.pytorch.darts/MainThread) Epoch [1/2] Step [161/3125]  acc1 0.125000 (0.091615)  loss 2.300648 (2.302669)\n",
      "[2021-06-13 22:21:33] INFO (nni.retiarii.oneshot.pytorch.darts/MainThread) Epoch [1/2] Step [171/3125]  acc1 0.125000 (0.088450)  loss 2.302391 (2.302727)\n",
      "[2021-06-13 22:22:01] INFO (nni.retiarii.oneshot.pytorch.darts/MainThread) Epoch [1/2] Step [181/3125]  acc1 0.250000 (0.091851)  loss 2.300567 (2.302681)\n",
      "[2021-06-13 22:22:30] INFO (nni.retiarii.oneshot.pytorch.darts/MainThread) Epoch [1/2] Step [191/3125]  acc1 0.125000 (0.090969)  loss 2.302050 (2.302676)\n",
      "[2021-06-13 22:22:58] INFO (nni.retiarii.oneshot.pytorch.darts/MainThread) Epoch [1/2] Step [201/3125]  acc1 0.125000 (0.091418)  loss 2.302969 (2.302695)\n",
      "[2021-06-13 22:23:26] INFO (nni.retiarii.oneshot.pytorch.darts/MainThread) Epoch [1/2] Step [211/3125]  acc1 0.250000 (0.091232)  loss 2.301554 (2.302682)\n",
      "[2021-06-13 22:23:54] INFO (nni.retiarii.oneshot.pytorch.darts/MainThread) Epoch [1/2] Step [221/3125]  acc1 0.125000 (0.090498)  loss 2.301889 (2.302646)\n",
      "[2021-06-13 22:24:21] INFO (nni.retiarii.oneshot.pytorch.darts/MainThread) Epoch [1/2] Step [231/3125]  acc1 0.125000 (0.089827)  loss 2.301774 (2.302652)\n",
      "[2021-06-13 22:24:48] INFO (nni.retiarii.oneshot.pytorch.darts/MainThread) Epoch [1/2] Step [241/3125]  acc1 0.375000 (0.089730)  loss 2.301692 (2.302641)\n",
      "[2021-06-13 22:25:15] INFO (nni.retiarii.oneshot.pytorch.darts/MainThread) Epoch [1/2] Step [251/3125]  acc1 0.000000 (0.089143)  loss 2.304132 (2.302650)\n",
      "[2021-06-13 22:25:43] INFO (nni.retiarii.oneshot.pytorch.darts/MainThread) Epoch [1/2] Step [261/3125]  acc1 0.000000 (0.087165)  loss 2.302488 (2.302660)\n",
      "[2021-06-13 22:26:10] INFO (nni.retiarii.oneshot.pytorch.darts/MainThread) Epoch [1/2] Step [271/3125]  acc1 0.000000 (0.086255)  loss 2.301794 (2.302635)\n",
      "[2021-06-13 22:26:36] INFO (nni.retiarii.oneshot.pytorch.darts/MainThread) Epoch [1/2] Step [281/3125]  acc1 0.000000 (0.086744)  loss 2.305561 (2.302647)\n",
      "[2021-06-13 22:27:01] INFO (nni.retiarii.oneshot.pytorch.darts/MainThread) Epoch [1/2] Step [291/3125]  acc1 0.125000 (0.085052)  loss 2.301178 (2.302623)\n",
      "[2021-06-13 22:27:26] INFO (nni.retiarii.oneshot.pytorch.darts/MainThread) Epoch [1/2] Step [301/3125]  acc1 0.000000 (0.085133)  loss 2.305955 (2.302631)\n",
      "[2021-06-13 22:27:51] INFO (nni.retiarii.oneshot.pytorch.darts/MainThread) Epoch [1/2] Step [311/3125]  acc1 0.000000 (0.085611)  loss 2.300825 (2.302624)\n",
      "[2021-06-13 22:28:16] INFO (nni.retiarii.oneshot.pytorch.darts/MainThread) Epoch [1/2] Step [321/3125]  acc1 0.000000 (0.085280)  loss 2.301479 (2.302602)\n",
      "[2021-06-13 22:28:42] INFO (nni.retiarii.oneshot.pytorch.darts/MainThread) Epoch [1/2] Step [331/3125]  acc1 0.125000 (0.085725)  loss 2.303930 (2.302605)\n",
      "[2021-06-13 22:29:07] INFO (nni.retiarii.oneshot.pytorch.darts/MainThread) Epoch [1/2] Step [341/3125]  acc1 0.000000 (0.086877)  loss 2.304315 (2.302615)\n",
      "[2021-06-13 22:29:32] INFO (nni.retiarii.oneshot.pytorch.darts/MainThread) Epoch [1/2] Step [351/3125]  acc1 0.000000 (0.086895)  loss 2.300093 (2.302606)\n",
      "[2021-06-13 22:29:58] INFO (nni.retiarii.oneshot.pytorch.darts/MainThread) Epoch [1/2] Step [361/3125]  acc1 0.000000 (0.086911)  loss 2.304435 (2.302616)\n",
      "[2021-06-13 22:30:25] INFO (nni.retiarii.oneshot.pytorch.darts/MainThread) Epoch [1/2] Step [371/3125]  acc1 0.000000 (0.086590)  loss 2.303282 (2.302613)\n",
      "[2021-06-13 22:30:50] INFO (nni.retiarii.oneshot.pytorch.darts/MainThread) Epoch [1/2] Step [381/3125]  acc1 0.125000 (0.086286)  loss 2.301296 (2.302611)\n",
      "[2021-06-13 22:31:16] INFO (nni.retiarii.oneshot.pytorch.darts/MainThread) Epoch [1/2] Step [391/3125]  acc1 0.000000 (0.085358)  loss 2.301679 (2.302622)\n",
      "[2021-06-13 22:31:41] INFO (nni.retiarii.oneshot.pytorch.darts/MainThread) Epoch [1/2] Step [401/3125]  acc1 0.125000 (0.084165)  loss 2.300573 (2.302618)\n",
      "[2021-06-13 22:32:06] INFO (nni.retiarii.oneshot.pytorch.darts/MainThread) Epoch [1/2] Step [411/3125]  acc1 0.000000 (0.083942)  loss 2.302794 (2.302632)\n",
      "[2021-06-13 22:32:32] INFO (nni.retiarii.oneshot.pytorch.darts/MainThread) Epoch [1/2] Step [421/3125]  acc1 0.125000 (0.083432)  loss 2.301718 (2.302639)\n",
      "[2021-06-13 22:32:57] INFO (nni.retiarii.oneshot.pytorch.darts/MainThread) Epoch [1/2] Step [431/3125]  acc1 0.000000 (0.082947)  loss 2.304754 (2.302652)\n",
      "[2021-06-13 22:33:22] INFO (nni.retiarii.oneshot.pytorch.darts/MainThread) Epoch [1/2] Step [441/3125]  acc1 0.000000 (0.082766)  loss 2.303138 (2.302666)\n",
      "[2021-06-13 22:33:47] INFO (nni.retiarii.oneshot.pytorch.darts/MainThread) Epoch [1/2] Step [451/3125]  acc1 0.250000 (0.083149)  loss 2.301005 (2.302647)\n",
      "[2021-06-13 22:34:12] INFO (nni.retiarii.oneshot.pytorch.darts/MainThread) Epoch [1/2] Step [461/3125]  acc1 0.250000 (0.083243)  loss 2.300216 (2.302648)\n",
      "[2021-06-13 22:34:38] INFO (nni.retiarii.oneshot.pytorch.darts/MainThread) Epoch [1/2] Step [471/3125]  acc1 0.000000 (0.082272)  loss 2.304408 (2.302658)\n",
      "[2021-06-13 22:35:03] INFO (nni.retiarii.oneshot.pytorch.darts/MainThread) Epoch [1/2] Step [481/3125]  acc1 0.000000 (0.081601)  loss 2.303566 (2.302662)\n",
      "[2021-06-13 22:35:28] INFO (nni.retiarii.oneshot.pytorch.darts/MainThread) Epoch [1/2] Step [491/3125]  acc1 0.000000 (0.081976)  loss 2.303928 (2.302668)\n",
      "[2021-06-13 22:35:53] INFO (nni.retiarii.oneshot.pytorch.darts/MainThread) Epoch [1/2] Step [501/3125]  acc1 0.000000 (0.081337)  loss 2.305028 (2.302677)\n",
      "[2021-06-13 22:36:18] INFO (nni.retiarii.oneshot.pytorch.darts/MainThread) Epoch [1/2] Step [511/3125]  acc1 0.250000 (0.080479)  loss 2.300601 (2.302679)\n",
      "[2021-06-13 22:36:44] INFO (nni.retiarii.oneshot.pytorch.darts/MainThread) Epoch [1/2] Step [521/3125]  acc1 0.000000 (0.080854)  loss 2.302391 (2.302674)\n"
     ]
    },
    {
     "name": "stdout",
     "output_type": "stream",
     "text": [
      "[2021-06-13 22:37:09] INFO (nni.retiarii.oneshot.pytorch.darts/MainThread) Epoch [1/2] Step [531/3125]  acc1 0.000000 (0.080508)  loss 2.302478 (2.302670)\n",
      "[2021-06-13 22:37:39] INFO (nni.retiarii.oneshot.pytorch.darts/MainThread) Epoch [1/2] Step [541/3125]  acc1 0.000000 (0.079945)  loss 2.303230 (2.302673)\n",
      "[2021-06-13 22:38:08] INFO (nni.retiarii.oneshot.pytorch.darts/MainThread) Epoch [1/2] Step [551/3125]  acc1 0.125000 (0.079855)  loss 2.300917 (2.302672)\n",
      "[2021-06-13 22:38:38] INFO (nni.retiarii.oneshot.pytorch.darts/MainThread) Epoch [1/2] Step [561/3125]  acc1 0.250000 (0.079768)  loss 2.303063 (2.302678)\n",
      "[2021-06-13 22:39:08] INFO (nni.retiarii.oneshot.pytorch.darts/MainThread) Epoch [1/2] Step [571/3125]  acc1 0.000000 (0.079466)  loss 2.302926 (2.302677)\n",
      "[2021-06-13 22:39:38] INFO (nni.retiarii.oneshot.pytorch.darts/MainThread) Epoch [1/2] Step [581/3125]  acc1 0.250000 (0.079174)  loss 2.301330 (2.302686)\n",
      "[2021-06-13 22:40:08] INFO (nni.retiarii.oneshot.pytorch.darts/MainThread) Epoch [1/2] Step [591/3125]  acc1 0.000000 (0.079103)  loss 2.302179 (2.302674)\n",
      "[2021-06-13 22:40:37] INFO (nni.retiarii.oneshot.pytorch.darts/MainThread) Epoch [1/2] Step [601/3125]  acc1 0.125000 (0.079035)  loss 2.302335 (2.302670)\n",
      "[2021-06-13 22:41:07] INFO (nni.retiarii.oneshot.pytorch.darts/MainThread) Epoch [1/2] Step [611/3125]  acc1 0.000000 (0.079583)  loss 2.302820 (2.302664)\n",
      "[2021-06-13 22:41:37] INFO (nni.retiarii.oneshot.pytorch.darts/MainThread) Epoch [1/2] Step [621/3125]  acc1 0.000000 (0.080515)  loss 2.304308 (2.302664)\n",
      "[2021-06-13 22:42:07] INFO (nni.retiarii.oneshot.pytorch.darts/MainThread) Epoch [1/2] Step [631/3125]  acc1 0.000000 (0.079635)  loss 2.302172 (2.302679)\n",
      "[2021-06-13 22:42:37] INFO (nni.retiarii.oneshot.pytorch.darts/MainThread) Epoch [1/2] Step [641/3125]  acc1 0.000000 (0.079368)  loss 2.302199 (2.302675)\n",
      "[2021-06-13 22:43:06] INFO (nni.retiarii.oneshot.pytorch.darts/MainThread) Epoch [1/2] Step [651/3125]  acc1 0.125000 (0.078725)  loss 2.303692 (2.302679)\n",
      "[2021-06-13 22:43:36] INFO (nni.retiarii.oneshot.pytorch.darts/MainThread) Epoch [1/2] Step [661/3125]  acc1 0.000000 (0.078858)  loss 2.303618 (2.302678)\n",
      "[2021-06-13 22:44:06] INFO (nni.retiarii.oneshot.pytorch.darts/MainThread) Epoch [1/2] Step [671/3125]  acc1 0.000000 (0.078800)  loss 2.303279 (2.302676)\n",
      "[2021-06-13 22:44:36] INFO (nni.retiarii.oneshot.pytorch.darts/MainThread) Epoch [1/2] Step [681/3125]  acc1 0.125000 (0.078561)  loss 2.303562 (2.302673)\n",
      "[2021-06-13 22:45:06] INFO (nni.retiarii.oneshot.pytorch.darts/MainThread) Epoch [1/2] Step [691/3125]  acc1 0.125000 (0.079052)  loss 2.302490 (2.302668)\n",
      "[2021-06-13 22:45:31] INFO (nni.retiarii.oneshot.pytorch.darts/MainThread) Epoch [1/2] Step [701/3125]  acc1 0.000000 (0.078994)  loss 2.301606 (2.302658)\n",
      "[2021-06-13 22:45:57] INFO (nni.retiarii.oneshot.pytorch.darts/MainThread) Epoch [1/2] Step [711/3125]  acc1 0.125000 (0.078938)  loss 2.300491 (2.302657)\n",
      "[2021-06-13 22:46:22] INFO (nni.retiarii.oneshot.pytorch.darts/MainThread) Epoch [1/2] Step [721/3125]  acc1 0.000000 (0.079057)  loss 2.302947 (2.302648)\n",
      "[2021-06-13 22:46:47] INFO (nni.retiarii.oneshot.pytorch.darts/MainThread) Epoch [1/2] Step [731/3125]  acc1 0.000000 (0.078659)  loss 2.303678 (2.302649)\n",
      "[2021-06-13 22:47:12] INFO (nni.retiarii.oneshot.pytorch.darts/MainThread) Epoch [1/2] Step [741/3125]  acc1 0.125000 (0.078779)  loss 2.302316 (2.302646)\n",
      "[2021-06-13 22:47:37] INFO (nni.retiarii.oneshot.pytorch.darts/MainThread) Epoch [1/2] Step [751/3125]  acc1 0.125000 (0.078395)  loss 2.304183 (2.302645)\n",
      "[2021-06-13 22:48:01] INFO (nni.retiarii.oneshot.pytorch.darts/MainThread) Epoch [1/2] Step [761/3125]  acc1 0.000000 (0.078187)  loss 2.302693 (2.302652)\n",
      "[2021-06-13 22:48:26] INFO (nni.retiarii.oneshot.pytorch.darts/MainThread) Epoch [1/2] Step [771/3125]  acc1 0.250000 (0.078956)  loss 2.303017 (2.302652)\n",
      "[2021-06-13 22:48:51] INFO (nni.retiarii.oneshot.pytorch.darts/MainThread) Epoch [1/2] Step [781/3125]  acc1 0.250000 (0.078585)  loss 2.302761 (2.302660)\n",
      "[2021-06-13 22:49:16] INFO (nni.retiarii.oneshot.pytorch.darts/MainThread) Epoch [1/2] Step [791/3125]  acc1 0.000000 (0.078856)  loss 2.305696 (2.302669)\n",
      "[2021-06-13 22:49:41] INFO (nni.retiarii.oneshot.pytorch.darts/MainThread) Epoch [1/2] Step [801/3125]  acc1 0.000000 (0.079744)  loss 2.303238 (2.302656)\n",
      "[2021-06-13 22:50:06] INFO (nni.retiarii.oneshot.pytorch.darts/MainThread) Epoch [1/2] Step [811/3125]  acc1 0.125000 (0.079686)  loss 2.302219 (2.302657)\n",
      "[2021-06-13 22:50:31] INFO (nni.retiarii.oneshot.pytorch.darts/MainThread) Epoch [1/2] Step [821/3125]  acc1 0.125000 (0.079781)  loss 2.302598 (2.302657)\n",
      "[2021-06-13 22:50:56] INFO (nni.retiarii.oneshot.pytorch.darts/MainThread) Epoch [1/2] Step [831/3125]  acc1 0.125000 (0.079874)  loss 2.302005 (2.302660)\n",
      "[2021-06-13 22:51:21] INFO (nni.retiarii.oneshot.pytorch.darts/MainThread) Epoch [1/2] Step [841/3125]  acc1 0.000000 (0.079370)  loss 2.304394 (2.302663)\n",
      "[2021-06-13 22:51:46] INFO (nni.retiarii.oneshot.pytorch.darts/MainThread) Epoch [1/2] Step [851/3125]  acc1 0.125000 (0.079172)  loss 2.303927 (2.302665)\n",
      "[2021-06-13 22:52:11] INFO (nni.retiarii.oneshot.pytorch.darts/MainThread) Epoch [1/2] Step [861/3125]  acc1 0.000000 (0.079268)  loss 2.302652 (2.302672)\n",
      "[2021-06-13 22:52:36] INFO (nni.retiarii.oneshot.pytorch.darts/MainThread) Epoch [1/2] Step [871/3125]  acc1 0.125000 (0.079076)  loss 2.305192 (2.302679)\n",
      "[2021-06-13 22:53:01] INFO (nni.retiarii.oneshot.pytorch.darts/MainThread) Epoch [1/2] Step [881/3125]  acc1 0.000000 (0.078746)  loss 2.301770 (2.302671)\n",
      "[2021-06-13 22:53:26] INFO (nni.retiarii.oneshot.pytorch.darts/MainThread) Epoch [1/2] Step [891/3125]  acc1 0.125000 (0.078844)  loss 2.299714 (2.302667)\n",
      "[2021-06-13 22:53:50] INFO (nni.retiarii.oneshot.pytorch.darts/MainThread) Epoch [1/2] Step [901/3125]  acc1 0.000000 (0.078663)  loss 2.302778 (2.302663)\n",
      "[2021-06-13 22:54:15] INFO (nni.retiarii.oneshot.pytorch.darts/MainThread) Epoch [1/2] Step [911/3125]  acc1 0.125000 (0.078485)  loss 2.305160 (2.302665)\n",
      "[2021-06-13 22:54:40] INFO (nni.retiarii.oneshot.pytorch.darts/MainThread) Epoch [1/2] Step [921/3125]  acc1 0.375000 (0.078855)  loss 2.299804 (2.302662)\n",
      "[2021-06-13 22:55:05] INFO (nni.retiarii.oneshot.pytorch.darts/MainThread) Epoch [1/2] Step [931/3125]  acc1 0.000000 (0.079082)  loss 2.305965 (2.302657)\n",
      "[2021-06-13 22:55:30] INFO (nni.retiarii.oneshot.pytorch.darts/MainThread) Epoch [1/2] Step [941/3125]  acc1 0.125000 (0.078773)  loss 2.302952 (2.302665)\n",
      "[2021-06-13 22:55:55] INFO (nni.retiarii.oneshot.pytorch.darts/MainThread) Epoch [1/2] Step [951/3125]  acc1 0.375000 (0.079259)  loss 2.299966 (2.302658)\n",
      "[2021-06-13 22:56:20] INFO (nni.retiarii.oneshot.pytorch.darts/MainThread) Epoch [1/2] Step [961/3125]  acc1 0.000000 (0.078954)  loss 2.303759 (2.302662)\n",
      "[2021-06-13 22:56:45] INFO (nni.retiarii.oneshot.pytorch.darts/MainThread) Epoch [1/2] Step [971/3125]  acc1 0.000000 (0.078785)  loss 2.301919 (2.302656)\n",
      "[2021-06-13 22:57:10] INFO (nni.retiarii.oneshot.pytorch.darts/MainThread) Epoch [1/2] Step [981/3125]  acc1 0.000000 (0.078874)  loss 2.304802 (2.302658)\n",
      "[2021-06-13 22:57:35] INFO (nni.retiarii.oneshot.pytorch.darts/MainThread) Epoch [1/2] Step [991/3125]  acc1 0.125000 (0.079339)  loss 2.301160 (2.302654)\n",
      "[2021-06-13 22:58:00] INFO (nni.retiarii.oneshot.pytorch.darts/MainThread) Epoch [1/2] Step [1001/3125]  acc1 0.000000 (0.079046)  loss 2.301932 (2.302655)\n",
      "[2021-06-13 22:58:25] INFO (nni.retiarii.oneshot.pytorch.darts/MainThread) Epoch [1/2] Step [1011/3125]  acc1 0.000000 (0.078635)  loss 2.304992 (2.302660)\n",
      "[2021-06-13 22:58:49] INFO (nni.retiarii.oneshot.pytorch.darts/MainThread) Epoch [1/2] Step [1021/3125]  acc1 0.125000 (0.078967)  loss 2.299402 (2.302651)\n",
      "[2021-06-13 22:59:14] INFO (nni.retiarii.oneshot.pytorch.darts/MainThread) Epoch [1/2] Step [1031/3125]  acc1 0.125000 (0.078565)  loss 2.303596 (2.302656)\n",
      "[2021-06-13 22:59:39] INFO (nni.retiarii.oneshot.pytorch.darts/MainThread) Epoch [1/2] Step [1041/3125]  acc1 0.000000 (0.078650)  loss 2.303486 (2.302657)\n",
      "[2021-06-13 23:00:04] INFO (nni.retiarii.oneshot.pytorch.darts/MainThread) Epoch [1/2] Step [1051/3125]  acc1 0.250000 (0.078853)  loss 2.302962 (2.302658)\n"
     ]
    },
    {
     "name": "stdout",
     "output_type": "stream",
     "text": [
      "[2021-06-13 23:00:29] INFO (nni.retiarii.oneshot.pytorch.darts/MainThread) Epoch [1/2] Step [1061/3125]  acc1 0.000000 (0.079053)  loss 2.304769 (2.302659)\n",
      "[2021-06-13 23:00:54] INFO (nni.retiarii.oneshot.pytorch.darts/MainThread) Epoch [1/2] Step [1071/3125]  acc1 0.125000 (0.079015)  loss 2.299605 (2.302650)\n",
      "[2021-06-13 23:01:19] INFO (nni.retiarii.oneshot.pytorch.darts/MainThread) Epoch [1/2] Step [1081/3125]  acc1 0.125000 (0.078747)  loss 2.301654 (2.302655)\n",
      "[2021-06-13 23:01:44] INFO (nni.retiarii.oneshot.pytorch.darts/MainThread) Epoch [1/2] Step [1091/3125]  acc1 0.125000 (0.078598)  loss 2.302218 (2.302653)\n",
      "[2021-06-13 23:02:09] INFO (nni.retiarii.oneshot.pytorch.darts/MainThread) Epoch [1/2] Step [1101/3125]  acc1 0.000000 (0.078565)  loss 2.303739 (2.302651)\n",
      "[2021-06-13 23:02:34] INFO (nni.retiarii.oneshot.pytorch.darts/MainThread) Epoch [1/2] Step [1111/3125]  acc1 0.250000 (0.078870)  loss 2.302104 (2.302651)\n",
      "[2021-06-13 23:02:59] INFO (nni.retiarii.oneshot.pytorch.darts/MainThread) Epoch [1/2] Step [1121/3125]  acc1 0.250000 (0.079170)  loss 2.299572 (2.302651)\n",
      "[2021-06-13 23:03:24] INFO (nni.retiarii.oneshot.pytorch.darts/MainThread) Epoch [1/2] Step [1131/3125]  acc1 0.250000 (0.079244)  loss 2.301000 (2.302652)\n",
      "[2021-06-13 23:03:49] INFO (nni.retiarii.oneshot.pytorch.darts/MainThread) Epoch [1/2] Step [1141/3125]  acc1 0.000000 (0.078878)  loss 2.303957 (2.302653)\n",
      "[2021-06-13 23:04:13] INFO (nni.retiarii.oneshot.pytorch.darts/MainThread) Epoch [1/2] Step [1151/3125]  acc1 0.125000 (0.079062)  loss 2.302642 (2.302647)\n",
      "[2021-06-13 23:04:38] INFO (nni.retiarii.oneshot.pytorch.darts/MainThread) Epoch [1/2] Step [1161/3125]  acc1 0.125000 (0.079134)  loss 2.301143 (2.302647)\n",
      "[2021-06-13 23:05:03] INFO (nni.retiarii.oneshot.pytorch.darts/MainThread) Epoch [1/2] Step [1171/3125]  acc1 0.125000 (0.078886)  loss 2.302611 (2.302652)\n",
      "[2021-06-13 23:05:28] INFO (nni.retiarii.oneshot.pytorch.darts/MainThread) Epoch [1/2] Step [1181/3125]  acc1 0.000000 (0.078959)  loss 2.304526 (2.302656)\n",
      "[2021-06-13 23:05:53] INFO (nni.retiarii.oneshot.pytorch.darts/MainThread) Epoch [1/2] Step [1191/3125]  acc1 0.125000 (0.078715)  loss 2.303510 (2.302660)\n",
      "[2021-06-13 23:06:18] INFO (nni.retiarii.oneshot.pytorch.darts/MainThread) Epoch [1/2] Step [1201/3125]  acc1 0.125000 (0.078893)  loss 2.301749 (2.302661)\n",
      "[2021-06-13 23:06:43] INFO (nni.retiarii.oneshot.pytorch.darts/MainThread) Epoch [1/2] Step [1211/3125]  acc1 0.125000 (0.078964)  loss 2.303152 (2.302659)\n",
      "[2021-06-13 23:07:08] INFO (nni.retiarii.oneshot.pytorch.darts/MainThread) Epoch [1/2] Step [1221/3125]  acc1 0.125000 (0.079545)  loss 2.302404 (2.302655)\n",
      "[2021-06-13 23:07:33] INFO (nni.retiarii.oneshot.pytorch.darts/MainThread) Epoch [1/2] Step [1231/3125]  acc1 0.125000 (0.079610)  loss 2.302707 (2.302650)\n",
      "[2021-06-13 23:07:58] INFO (nni.retiarii.oneshot.pytorch.darts/MainThread) Epoch [1/2] Step [1241/3125]  acc1 0.125000 (0.079976)  loss 2.302205 (2.302647)\n",
      "[2021-06-13 23:08:23] INFO (nni.retiarii.oneshot.pytorch.darts/MainThread) Epoch [1/2] Step [1251/3125]  acc1 0.250000 (0.080136)  loss 2.299652 (2.302645)\n",
      "[2021-06-13 23:08:48] INFO (nni.retiarii.oneshot.pytorch.darts/MainThread) Epoch [1/2] Step [1261/3125]  acc1 0.000000 (0.080095)  loss 2.302708 (2.302641)\n",
      "[2021-06-13 23:09:13] INFO (nni.retiarii.oneshot.pytorch.darts/MainThread) Epoch [1/2] Step [1271/3125]  acc1 0.125000 (0.080153)  loss 2.300691 (2.302637)\n",
      "[2021-06-13 23:09:38] INFO (nni.retiarii.oneshot.pytorch.darts/MainThread) Epoch [1/2] Step [1281/3125]  acc1 0.125000 (0.080113)  loss 2.305519 (2.302641)\n",
      "[2021-06-13 23:10:03] INFO (nni.retiarii.oneshot.pytorch.darts/MainThread) Epoch [1/2] Step [1291/3125]  acc1 0.000000 (0.079977)  loss 2.301735 (2.302635)\n",
      "[2021-06-13 23:10:28] INFO (nni.retiarii.oneshot.pytorch.darts/MainThread) Epoch [1/2] Step [1301/3125]  acc1 0.000000 (0.079746)  loss 2.304745 (2.302635)\n",
      "[2021-06-13 23:10:53] INFO (nni.retiarii.oneshot.pytorch.darts/MainThread) Epoch [1/2] Step [1311/3125]  acc1 0.125000 (0.079424)  loss 2.303423 (2.302639)\n",
      "[2021-06-13 23:11:18] INFO (nni.retiarii.oneshot.pytorch.darts/MainThread) Epoch [1/2] Step [1321/3125]  acc1 0.125000 (0.079769)  loss 2.301421 (2.302636)\n",
      "[2021-06-13 23:11:43] INFO (nni.retiarii.oneshot.pytorch.darts/MainThread) Epoch [1/2] Step [1331/3125]  acc1 0.000000 (0.079639)  loss 2.303804 (2.302640)\n",
      "[2021-06-13 23:12:08] INFO (nni.retiarii.oneshot.pytorch.darts/MainThread) Epoch [1/2] Step [1341/3125]  acc1 0.250000 (0.079698)  loss 2.302926 (2.302637)\n",
      "[2021-06-13 23:12:32] INFO (nni.retiarii.oneshot.pytorch.darts/MainThread) Epoch [1/2] Step [1351/3125]  acc1 0.000000 (0.079941)  loss 2.303228 (2.302635)\n",
      "[2021-06-13 23:12:58] INFO (nni.retiarii.oneshot.pytorch.darts/MainThread) Epoch [1/2] Step [1361/3125]  acc1 0.000000 (0.079721)  loss 2.304042 (2.302638)\n",
      "[2021-06-13 23:13:23] INFO (nni.retiarii.oneshot.pytorch.darts/MainThread) Epoch [1/2] Step [1371/3125]  acc1 0.000000 (0.079504)  loss 2.300012 (2.302636)\n",
      "[2021-06-13 23:13:47] INFO (nni.retiarii.oneshot.pytorch.darts/MainThread) Epoch [1/2] Step [1381/3125]  acc1 0.125000 (0.079471)  loss 2.303392 (2.302637)\n",
      "[2021-06-13 23:14:13] INFO (nni.retiarii.oneshot.pytorch.darts/MainThread) Epoch [1/2] Step [1391/3125]  acc1 0.000000 (0.079170)  loss 2.301392 (2.302639)\n",
      "[2021-06-13 23:14:37] INFO (nni.retiarii.oneshot.pytorch.darts/MainThread) Epoch [1/2] Step [1401/3125]  acc1 0.000000 (0.079140)  loss 2.303963 (2.302638)\n",
      "[2021-06-13 23:15:02] INFO (nni.retiarii.oneshot.pytorch.darts/MainThread) Epoch [1/2] Step [1411/3125]  acc1 0.250000 (0.079465)  loss 2.303436 (2.302641)\n",
      "[2021-06-13 23:15:27] INFO (nni.retiarii.oneshot.pytorch.darts/MainThread) Epoch [1/2] Step [1421/3125]  acc1 0.125000 (0.079258)  loss 2.301591 (2.302643)\n",
      "[2021-06-13 23:15:52] INFO (nni.retiarii.oneshot.pytorch.darts/MainThread) Epoch [1/2] Step [1431/3125]  acc1 0.000000 (0.079315)  loss 2.301734 (2.302637)\n",
      "[2021-06-13 23:16:17] INFO (nni.retiarii.oneshot.pytorch.darts/MainThread) Epoch [1/2] Step [1441/3125]  acc1 0.000000 (0.079198)  loss 2.303216 (2.302636)\n",
      "[2021-06-13 23:16:42] INFO (nni.retiarii.oneshot.pytorch.darts/MainThread) Epoch [1/2] Step [1451/3125]  acc1 0.125000 (0.079428)  loss 2.302029 (2.302632)\n",
      "[2021-06-13 23:17:07] INFO (nni.retiarii.oneshot.pytorch.darts/MainThread) Epoch [1/2] Step [1461/3125]  acc1 0.125000 (0.079825)  loss 2.303446 (2.302631)\n",
      "[2021-06-13 23:17:32] INFO (nni.retiarii.oneshot.pytorch.darts/MainThread) Epoch [1/2] Step [1471/3125]  acc1 0.000000 (0.079793)  loss 2.302368 (2.302633)\n",
      "[2021-06-13 23:17:57] INFO (nni.retiarii.oneshot.pytorch.darts/MainThread) Epoch [1/2] Step [1481/3125]  acc1 0.000000 (0.079591)  loss 2.306381 (2.302635)\n",
      "[2021-06-13 23:18:22] INFO (nni.retiarii.oneshot.pytorch.darts/MainThread) Epoch [1/2] Step [1491/3125]  acc1 0.000000 (0.079477)  loss 2.305387 (2.302642)\n",
      "[2021-06-13 23:18:46] INFO (nni.retiarii.oneshot.pytorch.darts/MainThread) Epoch [1/2] Step [1501/3125]  acc1 0.000000 (0.079530)  loss 2.302351 (2.302645)\n",
      "[2021-06-13 23:19:11] INFO (nni.retiarii.oneshot.pytorch.darts/MainThread) Epoch [1/2] Step [1511/3125]  acc1 0.375000 (0.080079)  loss 2.300870 (2.302638)\n",
      "[2021-06-13 23:19:36] INFO (nni.retiarii.oneshot.pytorch.darts/MainThread) Epoch [1/2] Step [1521/3125]  acc1 0.000000 (0.079799)  loss 2.303951 (2.302644)\n",
      "[2021-06-13 23:20:01] INFO (nni.retiarii.oneshot.pytorch.darts/MainThread) Epoch [1/2] Step [1531/3125]  acc1 0.000000 (0.079605)  loss 2.303764 (2.302648)\n",
      "[2021-06-13 23:20:26] INFO (nni.retiarii.oneshot.pytorch.darts/MainThread) Epoch [1/2] Step [1541/3125]  acc1 0.125000 (0.079575)  loss 2.302980 (2.302646)\n",
      "[2021-06-13 23:20:51] INFO (nni.retiarii.oneshot.pytorch.darts/MainThread) Epoch [1/2] Step [1551/3125]  acc1 0.125000 (0.079465)  loss 2.302099 (2.302655)\n",
      "[2021-06-13 23:21:16] INFO (nni.retiarii.oneshot.pytorch.darts/MainThread) Epoch [1/2] Step [1561/3125]  acc1 0.250000 (0.079196)  loss 2.303063 (2.302657)\n",
      "[2021-06-13 23:21:41] INFO (nni.retiarii.oneshot.pytorch.darts/MainThread) Epoch [1/2] Step [1571/3125]  acc1 0.125000 (0.079408)  loss 2.303226 (2.302653)\n",
      "[2021-06-13 23:22:06] INFO (nni.retiarii.oneshot.pytorch.darts/MainThread) Epoch [1/2] Step [1581/3125]  acc1 0.375000 (0.079538)  loss 2.301064 (2.302649)\n"
     ]
    },
    {
     "name": "stdout",
     "output_type": "stream",
     "text": [
      "[2021-06-13 23:22:31] INFO (nni.retiarii.oneshot.pytorch.darts/MainThread) Epoch [1/2] Step [1591/3125]  acc1 0.000000 (0.079510)  loss 2.304319 (2.302647)\n",
      "[2021-06-13 23:22:56] INFO (nni.retiarii.oneshot.pytorch.darts/MainThread) Epoch [1/2] Step [1601/3125]  acc1 0.125000 (0.079638)  loss 2.303254 (2.302646)\n",
      "[2021-06-13 23:23:21] INFO (nni.retiarii.oneshot.pytorch.darts/MainThread) Epoch [1/2] Step [1611/3125]  acc1 0.250000 (0.079609)  loss 2.303160 (2.302647)\n",
      "[2021-06-13 23:23:46] INFO (nni.retiarii.oneshot.pytorch.darts/MainThread) Epoch [1/2] Step [1621/3125]  acc1 0.125000 (0.079503)  loss 2.303931 (2.302650)\n",
      "[2021-06-13 23:24:10] INFO (nni.retiarii.oneshot.pytorch.darts/MainThread) Epoch [1/2] Step [1631/3125]  acc1 0.375000 (0.079706)  loss 2.300795 (2.302655)\n",
      "[2021-06-13 23:24:35] INFO (nni.retiarii.oneshot.pytorch.darts/MainThread) Epoch [1/2] Step [1641/3125]  acc1 0.125000 (0.079525)  loss 2.302819 (2.302657)\n",
      "[2021-06-13 23:25:00] INFO (nni.retiarii.oneshot.pytorch.darts/MainThread) Epoch [1/2] Step [1651/3125]  acc1 0.125000 (0.079270)  loss 2.301964 (2.302660)\n",
      "[2021-06-13 23:25:25] INFO (nni.retiarii.oneshot.pytorch.darts/MainThread) Epoch [1/2] Step [1661/3125]  acc1 0.125000 (0.079395)  loss 2.302491 (2.302657)\n",
      "[2021-06-13 23:25:50] INFO (nni.retiarii.oneshot.pytorch.darts/MainThread) Epoch [1/2] Step [1671/3125]  acc1 0.125000 (0.079817)  loss 2.301332 (2.302654)\n",
      "[2021-06-13 23:26:15] INFO (nni.retiarii.oneshot.pytorch.darts/MainThread) Epoch [1/2] Step [1681/3125]  acc1 0.000000 (0.079640)  loss 2.305238 (2.302658)\n",
      "[2021-06-13 23:26:40] INFO (nni.retiarii.oneshot.pytorch.darts/MainThread) Epoch [1/2] Step [1691/3125]  acc1 0.250000 (0.079760)  loss 2.301603 (2.302657)\n",
      "[2021-06-13 23:27:05] INFO (nni.retiarii.oneshot.pytorch.darts/MainThread) Epoch [1/2] Step [1701/3125]  acc1 0.000000 (0.079806)  loss 2.303983 (2.302661)\n",
      "[2021-06-13 23:27:30] INFO (nni.retiarii.oneshot.pytorch.darts/MainThread) Epoch [1/2] Step [1711/3125]  acc1 0.000000 (0.079851)  loss 2.305054 (2.302662)\n",
      "[2021-06-13 23:27:55] INFO (nni.retiarii.oneshot.pytorch.darts/MainThread) Epoch [1/2] Step [1721/3125]  acc1 0.125000 (0.080186)  loss 2.304227 (2.302661)\n",
      "[2021-06-13 23:28:20] INFO (nni.retiarii.oneshot.pytorch.darts/MainThread) Epoch [1/2] Step [1731/3125]  acc1 0.125000 (0.080012)  loss 2.303270 (2.302663)\n",
      "[2021-06-13 23:28:44] INFO (nni.retiarii.oneshot.pytorch.darts/MainThread) Epoch [1/2] Step [1741/3125]  acc1 0.125000 (0.080198)  loss 2.302482 (2.302661)\n",
      "[2021-06-13 23:29:09] INFO (nni.retiarii.oneshot.pytorch.darts/MainThread) Epoch [1/2] Step [1751/3125]  acc1 0.125000 (0.080311)  loss 2.301561 (2.302663)\n"
     ]
    }
   ],
   "source": [
    "trainer = DartsTrainer(\n",
    "        model=model, \n",
    "        loss=criterion,\n",
    "        metrics=lambda output, target: accuracy(output, target), \n",
    "        optimizer=optimizer,\n",
    "        num_epochs=2, \n",
    "        dataset=train_dataset,\n",
    "        batch_size=8, \n",
    "        log_frequency=10,\n",
    "#         reward_function=reward_accuracy,\n",
    "#         device=torch.device(\"cpu\")\n",
    "    \n",
    ")\n",
    "        \n",
    "\n",
    "trainer.fit()"
   ]
  },
  {
   "cell_type": "code",
   "execution_count": 26,
   "metadata": {
    "scrolled": true
   },
   "outputs": [
    {
     "name": "stdout",
     "output_type": "stream",
     "text": [
      "Final architecture: {}\n"
     ]
    }
   ],
   "source": [
    "# Similarly, the optimal structure found can be exported.\n",
    "print('Final architecture:', trainer.export())"
   ]
  },
  {
   "cell_type": "code",
   "execution_count": 17,
   "metadata": {},
   "outputs": [
    {
     "data": {
      "text/plain": [
       "Sequential(\n",
       "  (0): Conv2d(3, 11, kernel_size=(3, 3), stride=(1, 1), padding=(1, 1))\n",
       "  (1): BatchNorm2d(11, eps=1e-05, momentum=0.1, affine=True, track_running_stats=True)\n",
       "  (2): ReLU(inplace=True)\n",
       "  (3): MaxPool2d(kernel_size=2, stride=2, padding=0, dilation=1, ceil_mode=False)\n",
       "  (4): Conv2d(11, 11, kernel_size=(3, 3), stride=(1, 1), padding=(1, 1))\n",
       "  (5): BatchNorm2d(11, eps=1e-05, momentum=0.1, affine=True, track_running_stats=True)\n",
       "  (6): ReLU(inplace=True)\n",
       "  (7): MaxPool2d(kernel_size=2, stride=2, padding=0, dilation=1, ceil_mode=False)\n",
       "  (8): Conv2d(11, 16, kernel_size=(3, 3), stride=(1, 1), padding=(1, 1))\n",
       "  (9): BatchNorm2d(16, eps=1e-05, momentum=0.1, affine=True, track_running_stats=True)\n",
       "  (10): ReLU(inplace=True)\n",
       "  (11): MaxPool2d(kernel_size=2, stride=2, padding=0, dilation=1, ceil_mode=False)\n",
       "  (12): Flatten(start_dim=1, end_dim=-1)\n",
       "  (13): Linear(in_features=256, out_features=32, bias=True)\n",
       "  (14): ReLU(inplace=True)\n",
       "  (15): Linear(in_features=32, out_features=10, bias=True)\n",
       ")"
      ]
     },
     "execution_count": 17,
     "metadata": {},
     "output_type": "execute_result"
    }
   ],
   "source": [
    "trainer.nas_modules[0][1].op_choices['278']"
   ]
  }
 ],
 "metadata": {
  "kernelspec": {
   "display_name": "Python 3",
   "language": "python",
   "name": "python3"
  },
  "language_info": {
   "codemirror_mode": {
    "name": "ipython",
    "version": 3
   },
   "file_extension": ".py",
   "mimetype": "text/x-python",
   "name": "python",
   "nbconvert_exporter": "python",
   "pygments_lexer": "ipython3",
   "version": "3.7.10"
  },
  "latex_envs": {
   "LaTeX_envs_menu_present": true,
   "autoclose": false,
   "autocomplete": true,
   "bibliofile": "biblio.bib",
   "cite_by": "apalike",
   "current_citInitial": 1,
   "eqLabelWithNumbers": true,
   "eqNumInitial": 1,
   "hotkeys": {
    "equation": "Ctrl-E",
    "itemize": "Ctrl-I"
   },
   "labels_anchors": false,
   "latex_user_defs": false,
   "report_style_numbering": false,
   "user_envs_cfg": false
  },
  "toc": {
   "base_numbering": 1,
   "nav_menu": {},
   "number_sections": true,
   "sideBar": true,
   "skip_h1_title": false,
   "title_cell": "Table of Contents",
   "title_sidebar": "Contents",
   "toc_cell": false,
   "toc_position": {},
   "toc_section_display": true,
   "toc_window_display": false
  },
  "varInspector": {
   "cols": {
    "lenName": 16,
    "lenType": 16,
    "lenVar": 40
   },
   "kernels_config": {
    "python": {
     "delete_cmd_postfix": "",
     "delete_cmd_prefix": "del ",
     "library": "var_list.py",
     "varRefreshCmd": "print(var_dic_list())"
    },
    "r": {
     "delete_cmd_postfix": ") ",
     "delete_cmd_prefix": "rm(",
     "library": "var_list.r",
     "varRefreshCmd": "cat(var_dic_list()) "
    }
   },
   "types_to_exclude": [
    "module",
    "function",
    "builtin_function_or_method",
    "instance",
    "_Feature"
   ],
   "window_display": false
  }
 },
 "nbformat": 4,
 "nbformat_minor": 4
}
